{
  "nbformat": 4,
  "nbformat_minor": 0,
  "metadata": {
    "colab": {
      "name": "Copy of Course 3 - Week 1 - Lesson 1.ipynb",
      "provenance": [],
      "collapsed_sections": [],
      "toc_visible": true,
      "include_colab_link": true
    },
    "kernelspec": {
      "display_name": "Python 3",
      "name": "python3"
    }
  },
  "cells": [
    {
      "cell_type": "markdown",
      "metadata": {
        "id": "view-in-github",
        "colab_type": "text"
      },
      "source": [
        "<a href=\"https://colab.research.google.com/github/niyaz-ahmad/ML-lessons/blob/master/Course_3_Week_1_Lesson_1.ipynb\" target=\"_parent\"><img src=\"https://colab.research.google.com/assets/colab-badge.svg\" alt=\"Open In Colab\"/></a>"
      ]
    },
    {
      "cell_type": "code",
      "metadata": {
        "colab_type": "code",
        "id": "zaCMcjMQifQc",
        "colab": {}
      },
      "source": [
        "from tensorflow.keras.preprocessing.text import Tokenizer\n",
        "\n",
        "sentences = [\n",
        "    'i love my dog',\n",
        "    'I, love my cat',\n",
        "    'You love my dog!',\n",
        "    'My dog loves me.',\n",
        "    'My dog loves going for walk.',\n",
        "    'My dog loves going for walks with me.',\n",
        "    'Do you think my dog is amazing?'\n",
        "]\n",
        "\n"
      ],
      "execution_count": null,
      "outputs": []
    },
    {
      "cell_type": "code",
      "metadata": {
        "id": "CjTIWWpegdtk",
        "colab_type": "code",
        "colab": {}
      },
      "source": [
        "tokenizer = Tokenizer(num_words = 100)\n",
        "tokenizer.fit_on_texts(sentences)\n",
        "word_index = tokenizer.word_index\n",
        "print(word_index)\n",
        "\n",
        "for key in word_index:\n",
        "  print(f\"{word_index[key]}\\t{key}\")"
      ],
      "execution_count": null,
      "outputs": []
    },
    {
      "cell_type": "code",
      "metadata": {
        "id": "x_zGiMt9dik0",
        "colab_type": "code",
        "colab": {}
      },
      "source": [
        "sequences = tokenizer.texts_to_sequences(sentences)\n",
        "print(sequences)\n",
        "for seq in sequences:\n",
        "  print(seq)"
      ],
      "execution_count": null,
      "outputs": []
    },
    {
      "cell_type": "code",
      "metadata": {
        "id": "DZhtkB3_fnJp",
        "colab_type": "code",
        "colab": {}
      },
      "source": [
        "test_data = [\n",
        "             'I really love my dog!',\n",
        "             'My dog loves my manatee.'\n",
        "]\n",
        "\n",
        "test_seq = tokenizer.texts_to_sequences(test_data)\n",
        "print(test_seq)\n"
      ],
      "execution_count": null,
      "outputs": []
    },
    {
      "cell_type": "markdown",
      "metadata": {
        "id": "L6RffkwGhSTu",
        "colab_type": "text"
      },
      "source": [
        "sequences of `test_data` results in \n",
        "```\n",
        "[\n",
        "  [5, 3, 1, 2],    # [I love my dog]      ~really\n",
        "  [1, 2, 4, 1]     # [My dog loves my]    ~manatee\n",
        "]\n",
        "```\n",
        "Tokens for 'really' and 'manatee' are missing from `test_seq` because these words are not in our corpus `word_index`.\n",
        "\n",
        "That's why we use __Out of Vocabulary__ token property:\n",
        ">>> `oov_token=\"<OOV>\"`\n",
        "\n",
        "set `oov_token` with something we can not see in the corpus.\n",
        "The tokenizer will create a token for that (`oov_token`) and then will replace words it does not recognize with `oov_token` instead.\n"
      ]
    },
    {
      "cell_type": "code",
      "metadata": {
        "id": "6rC-2HN7ntDR",
        "colab_type": "code",
        "colab": {}
      },
      "source": [
        "tokenizer = Tokenizer(num_words = 100, oov_token=\"<OOV>\")\n",
        "tokenizer.fit_on_texts(sentences)\n",
        "word_index = tokenizer.word_index\n",
        "print(word_index)\n",
        "\n",
        "for key in word_index:\n",
        "  print(f\"{word_index[key]}\\t{key}\")\n",
        "\n",
        "sequences = tokenizer.texts_to_sequences(sentences)\n",
        "print(sequences)\n",
        "\n",
        "for seq in sequences:\n",
        "  print(seq)\n",
        "\n",
        "test_data = [\n",
        "             'I really love my dog!',\n",
        "             'My dog loves my manatee.'\n",
        "]\n",
        "\n",
        "test_seq = tokenizer.texts_to_sequences(test_data)\n",
        "print()\n",
        "print('1 is being used for oov_token')\n",
        "print(test_data, \"\\n\\t\", test_seq)\n",
        "\n",
        "\n",
        "\n"
      ],
      "execution_count": null,
      "outputs": []
    },
    {
      "cell_type": "markdown",
      "metadata": {
        "id": "0-DqzuvipCWG",
        "colab_type": "text"
      },
      "source": [
        "Note token `1` is being used for both words \"really\" and \"manatee\".\n",
        "\n",
        "This trick maintains sequence lengths in case we encounter words beyond our corpus.\n",
        "\n",
        "We face a problem with equivalent sequences containing this fixed `oov_token` for different unknown words in different sentences.\n",
        "\n",
        "To solve this problem we use RaggedTensor. This is an advanced solution.\n",
        "\n",
        "A simpler solution is _padding_.\n",
        "\n",
        "First we import _pad sequences_ (`pad_sequences`) from preprocessing (`tensorflow.keras.preprocessing.sequence`): \n",
        "\n"
      ]
    },
    {
      "cell_type": "code",
      "metadata": {
        "id": "iVXGFivBrQKL",
        "colab_type": "code",
        "colab": {}
      },
      "source": [
        "from tensorflow.keras.preprocessing.sequence import pad_sequences"
      ],
      "execution_count": null,
      "outputs": []
    },
    {
      "cell_type": "markdown",
      "metadata": {
        "id": "8nkXPMLYtXiP",
        "colab_type": "text"
      },
      "source": [
        "To pad the `sequences`, pass them `pad_sequences()`"
      ]
    },
    {
      "cell_type": "code",
      "metadata": {
        "id": "kc75eC6vtwB-",
        "colab_type": "code",
        "colab": {
          "base_uri": "https://localhost:8080/",
          "height": 190
        },
        "outputId": "acbf0ac2-d129-4e8c-89e0-dd9c446fcf49"
      },
      "source": [
        "padded = pad_sequences(sequences)\n",
        "print(word_index)\n",
        "print(sequences)\n",
        "print(padded)"
      ],
      "execution_count": null,
      "outputs": [
        {
          "output_type": "stream",
          "text": [
            "{'<OOV>': 1, 'my': 2, 'dog': 3, 'love': 4, 'loves': 5, 'i': 6, 'you': 7, 'me': 8, 'going': 9, 'for': 10, 'cat': 11, 'walk': 12, 'walks': 13, 'with': 14, 'do': 15, 'think': 16, 'is': 17, 'amazing': 18}\n",
            "[[6, 4, 2, 3], [6, 4, 2, 11], [7, 4, 2, 3], [2, 3, 5, 8], [2, 3, 5, 9, 10, 12], [2, 3, 5, 9, 10, 13, 14, 8], [15, 7, 16, 2, 3, 17, 18]]\n",
            "[[ 0  0  0  0  6  4  2  3]\n",
            " [ 0  0  0  0  6  4  2 11]\n",
            " [ 0  0  0  0  7  4  2  3]\n",
            " [ 0  0  0  0  2  3  5  8]\n",
            " [ 0  0  2  3  5  9 10 12]\n",
            " [ 2  3  5  9 10 13 14  8]\n",
            " [ 0 15  7 16  2  3 17 18]]\n"
          ],
          "name": "stdout"
        }
      ]
    },
    {
      "cell_type": "markdown",
      "metadata": {
        "id": "8rsczI6jugtP",
        "colab_type": "text"
      },
      "source": [
        "Padded token is `0`.\n",
        "\n",
        "Sequences are pre-padded with `0` by default.\n",
        "To pad after the actual token in sequences, use option `padding='post'`:\n"
      ]
    },
    {
      "cell_type": "code",
      "metadata": {
        "id": "zexEtfswvPRH",
        "colab_type": "code",
        "colab": {
          "base_uri": "https://localhost:8080/",
          "height": 190
        },
        "outputId": "8ccff002-b078-493c-cfaa-3cba1f2f4817"
      },
      "source": [
        "padded = pad_sequences(sequences, padding='post')\n",
        "print(word_index)\n",
        "print(sequences)\n",
        "print(padded)"
      ],
      "execution_count": null,
      "outputs": [
        {
          "output_type": "stream",
          "text": [
            "{'<OOV>': 1, 'my': 2, 'dog': 3, 'love': 4, 'loves': 5, 'i': 6, 'you': 7, 'me': 8, 'going': 9, 'for': 10, 'cat': 11, 'walk': 12, 'walks': 13, 'with': 14, 'do': 15, 'think': 16, 'is': 17, 'amazing': 18}\n",
            "[[6, 4, 2, 3], [6, 4, 2, 11], [7, 4, 2, 3], [2, 3, 5, 8], [2, 3, 5, 9, 10, 12], [2, 3, 5, 9, 10, 13, 14, 8], [15, 7, 16, 2, 3, 17, 18]]\n",
            "[[ 6  4  2  3  0  0  0  0]\n",
            " [ 6  4  2 11  0  0  0  0]\n",
            " [ 7  4  2  3  0  0  0  0]\n",
            " [ 2  3  5  8  0  0  0  0]\n",
            " [ 2  3  5  9 10 12  0  0]\n",
            " [ 2  3  5  9 10 13 14  8]\n",
            " [15  7 16  2  3 17 18  0]]\n"
          ],
          "name": "stdout"
        }
      ]
    }
  ]
}